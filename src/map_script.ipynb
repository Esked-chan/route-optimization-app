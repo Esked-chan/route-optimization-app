{
 "cells": [
  {
   "cell_type": "code",
   "execution_count": 1,
   "id": "0a6d53f3",
   "metadata": {},
   "outputs": [],
   "source": [
    "import osmnx as ox\n",
    "import csv"
   ]
  },
  {
   "cell_type": "code",
   "execution_count": 2,
   "id": "8ca27a58",
   "metadata": {},
   "outputs": [],
   "source": [
    "# Center of Jyväskylä\n",
    "center_point = (62.24147, 25.72088)\n",
    "dist = 5000\n",
    "\n",
    "# Rich road types\n",
    "road_types = ['motorway', 'trunk', 'primary', 'secondary', 'tertiary',\n",
    "              'residential', 'unclassified', 'living_street']\n",
    "\n",
    "custom_filter = '[\"highway\"~\"{}\"]'.format('|'.join(road_types))\n",
    "\n",
    "# Load graph\n",
    "G = ox.graph_from_point(center_point, dist=dist, network_type='drive')"
   ]
  },
  {
   "cell_type": "code",
   "execution_count": 3,
   "id": "3fe8ee35",
   "metadata": {},
   "outputs": [],
   "source": [
    "self_loops = [(u, v) for u, v, data in G.edges(data=True) if u == v]\n",
    "G.remove_edges_from(self_loops)"
   ]
  },
  {
   "cell_type": "code",
   "execution_count": 4,
   "id": "0ebd335c",
   "metadata": {},
   "outputs": [],
   "source": [
    "# Normalize coordinates\n",
    "# Get the min and max coordinates for scaling\n",
    "x_coords = [data['x'] for _, data in G.nodes(data=True)]\n",
    "y_coords = [data['y'] for _, data in G.nodes(data=True)]\n",
    "\n",
    "x_min, x_max = min(x_coords), max(x_coords)\n",
    "y_min, y_max = min(y_coords), max(y_coords)\n",
    "\n",
    "# Define window size for normalization (e.g., 800x600)\n",
    "window_width = 1280\n",
    "window_height = 720\n",
    "\n",
    "# Normalize coordinates\n",
    "for node_id, data in G.nodes(data=True):\n",
    "    normalized_x = (data['x'] - x_min) / (x_max - x_min) * window_width\n",
    "    normalized_y = (data['y'] - y_min) / (y_max - y_min) * window_height\n",
    "    data['x'] = normalized_x\n",
    "    data['y'] = normalized_y"
   ]
  },
  {
   "cell_type": "code",
   "execution_count": 5,
   "id": "6432be09",
   "metadata": {},
   "outputs": [],
   "source": [
    "id_map = {orig_id: i for i, orig_id in enumerate(G.nodes())}"
   ]
  },
  {
   "cell_type": "code",
   "execution_count": 6,
   "id": "494c2029",
   "metadata": {},
   "outputs": [],
   "source": [
    "with open(\"nodes.csv\", \"w\", newline='') as f_nodes:\n",
    "    writer = csv.writer(f_nodes)\n",
    "    for orig_id, data in G.nodes(data=True):\n",
    "        writer.writerow([id_map[orig_id], data[\"x\"], data[\"y\"]])"
   ]
  },
  {
   "cell_type": "code",
   "execution_count": 8,
   "id": "729c524f",
   "metadata": {},
   "outputs": [],
   "source": [
    "with open(\"edges.csv\", \"w\", newline='', encoding='utf-8') as f_edges:\n",
    "    writer = csv.writer(f_edges)\n",
    "    for u, v, data in G.edges(data=True):\n",
    "        name = data.get(\"name\", \"Unnamed Road\")\n",
    "        if isinstance(name, list):\n",
    "            name = name[0]\n",
    "        writer.writerow([\n",
    "            id_map[u],\n",
    "            id_map[v],\n",
    "            data.get(\"length\", 0.0),\n",
    "            name\n",
    "        ])"
   ]
  }
 ],
 "metadata": {
  "kernelspec": {
   "display_name": "Python 3",
   "language": "python",
   "name": "python3"
  },
  "language_info": {
   "codemirror_mode": {
    "name": "ipython",
    "version": 3
   },
   "file_extension": ".py",
   "mimetype": "text/x-python",
   "name": "python",
   "nbconvert_exporter": "python",
   "pygments_lexer": "ipython3",
   "version": "3.10.11"
  }
 },
 "nbformat": 4,
 "nbformat_minor": 5
}
